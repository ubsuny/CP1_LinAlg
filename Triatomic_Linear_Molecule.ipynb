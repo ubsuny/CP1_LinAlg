{
  "nbformat": 4,
  "nbformat_minor": 0,
  "metadata": {
    "colab": {
      "name": "Triatomic Linear Molecule.ipynb",
      "provenance": [],
      "collapsed_sections": [],
      "include_colab_link": true
    },
    "kernelspec": {
      "name": "python3",
      "display_name": "Python 3"
    },
    "language_info": {
      "name": "python"
    }
  },
  "cells": [
    {
      "cell_type": "markdown",
      "metadata": {
        "id": "view-in-github",
        "colab_type": "text"
      },
      "source": [
        "<a href=\"https://colab.research.google.com/github/ubsuny/CP1_LinAlg/blob/main/Triatomic_Linear_Molecule.ipynb\" target=\"_parent\"><img src=\"https://colab.research.google.com/assets/colab-badge.svg\" alt=\"Open In Colab\"/></a>"
      ]
    },
    {
      "cell_type": "markdown",
      "metadata": {
        "id": "RuZhR9rTRas9"
      },
      "source": [
        "# Triatomic linear molecule\n",
        "\n",
        "we will look at a model of a linear triatomic molecule with one central mass $M$ attached to two peripheral masses $m$.\n",
        "If the molecule is linear, we can approximate this as three masses attached by two springs of constants $k_{12}$ and $k_{23}$. \n",
        "\n",
        "(Tim Thomay with CP1, 2021, [CC BY-SA 4.0 license](https://creativecommons.org/licenses/by-sa/4.0/))"
      ]
    },
    {
      "cell_type": "code",
      "metadata": {
        "colab": {
          "base_uri": "https://localhost:8080/"
        },
        "id": "FzK7xbrFRvKi",
        "outputId": "3da6535b-bff8-4fc0-aeaa-3a3d9b55172a"
      },
      "source": [
        "%pylab notebook"
      ],
      "execution_count": null,
      "outputs": [
        {
          "output_type": "stream",
          "name": "stdout",
          "text": [
            "Populating the interactive namespace from numpy and matplotlib\n"
          ]
        }
      ]
    },
    {
      "cell_type": "code",
      "metadata": {
        "id": "h6KpCBBt097K"
      },
      "source": [
        ""
      ],
      "execution_count": null,
      "outputs": []
    },
    {
      "cell_type": "markdown",
      "metadata": {
        "id": "BsQIBE2-22p0"
      },
      "source": [
        "$T_1 = \\frac{1}{2}m_1(\\dot{x_1})^2$\n",
        "\n",
        "$U_1 = \\frac{1}{2}k_{12} (x_2 - x_1)^2$\n",
        "\n",
        "$L = (\\frac{1}{2}m_1(\\dot{x_1})^2 + \\frac{1}{2}m_2(\\dot{x_2})^2 + \\frac{1}{2}m_3(\\dot{x_3})^2) - (\\frac{1}{2}k_{12} (x_2 - x_1)^2 + \\frac{1}{2}k_{23} (x_3 - x_2)^2)$"
      ]
    },
    {
      "cell_type": "code",
      "metadata": {
        "id": "P-DPBHVv3Rpi"
      },
      "source": [
        ""
      ],
      "execution_count": null,
      "outputs": []
    },
    {
      "cell_type": "markdown",
      "metadata": {
        "id": "6ZdfKvXA5MwX"
      },
      "source": [
        "$\\partial{L}/\\partial{x_i} = d/dt(\\partial{L}/\\partial{\\dot{x_i}})$"
      ]
    },
    {
      "cell_type": "markdown",
      "metadata": {
        "id": "0GGy-0Hs6c3k"
      },
      "source": [
        "$k_{12} (x_2 - x_1) = m_1(\\ddot{x_1})$"
      ]
    },
    {
      "cell_type": "markdown",
      "metadata": {
        "id": "nOVk4qvB7NIw"
      },
      "source": [
        "$K \\vec{x} = \\omega^2M\\vec{x}$"
      ]
    },
    {
      "cell_type": "code",
      "metadata": {
        "id": "f1GmsBe36Ypz"
      },
      "source": [
        "k12 = 1\n",
        "k23 = 1\n",
        "K = np.array([\n",
        "    [   k12,    -k12,       0    ],\n",
        "    [   -k12,  k12 + k23 ,    -k23  ],\n",
        "    [   0,    -k23,     k23       ]\n",
        "])"
      ],
      "execution_count": null,
      "outputs": []
    },
    {
      "cell_type": "code",
      "metadata": {
        "id": "cmQQ_pjA78vl"
      },
      "source": [
        "m1 = 1\n",
        "m3 = 1\n",
        "m2 = 2\n",
        "M = np.diag([m1,m2,m3])"
      ],
      "execution_count": null,
      "outputs": []
    },
    {
      "cell_type": "code",
      "metadata": {
        "id": "5H43rgvK9TOg"
      },
      "source": [
        "from scipy.linalg import eig\n",
        "omega, v = eig(K,M)"
      ],
      "execution_count": null,
      "outputs": []
    },
    {
      "cell_type": "code",
      "metadata": {
        "colab": {
          "base_uri": "https://localhost:8080/"
        },
        "id": "Iqacf1FF9x2g",
        "outputId": "82b67e90-0e90-4594-f0e5-3b4cc844552c"
      },
      "source": [
        "v"
      ],
      "execution_count": null,
      "outputs": [
        {
          "output_type": "execute_result",
          "data": {
            "text/plain": [
              "array([[ 7.07106781e-01+0.00000000e+00j,  6.12373565e-01+3.53551435e-01j,\n",
              "         6.12373565e-01-3.53551435e-01j],\n",
              "       [-3.14249011e-06+0.00000000e+00j,  2.72146121e-06-1.57123636e-06j,\n",
              "         2.72146121e-06+1.57123636e-06j],\n",
              "       [ 7.07106781e-01+0.00000000e+00j,  6.12373565e-01+3.53551435e-01j,\n",
              "         6.12373565e-01-3.53551435e-01j]])"
            ]
          },
          "metadata": {},
          "execution_count": 47
        }
      ]
    },
    {
      "cell_type": "code",
      "metadata": {
        "id": "dy7tc2C496u9"
      },
      "source": [
        ""
      ],
      "execution_count": null,
      "outputs": []
    }
  ]
}