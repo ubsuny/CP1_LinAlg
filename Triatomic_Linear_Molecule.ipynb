{
  "nbformat": 4,
  "nbformat_minor": 0,
  "metadata": {
    "colab": {
      "name": "Triatomic Linear Molecule.ipynb",
      "provenance": [],
      "include_colab_link": true
    },
    "kernelspec": {
      "name": "python3",
      "display_name": "Python 3"
    },
    "language_info": {
      "name": "python"
    }
  },
  "cells": [
    {
      "cell_type": "markdown",
      "metadata": {
        "id": "view-in-github",
        "colab_type": "text"
      },
      "source": [
        "<a href=\"https://colab.research.google.com/github/ubsuny/CP1_LinAlg/blob/main/Triatomic_Linear_Molecule.ipynb\" target=\"_parent\"><img src=\"https://colab.research.google.com/assets/colab-badge.svg\" alt=\"Open In Colab\"/></a>"
      ]
    },
    {
      "cell_type": "markdown",
      "metadata": {
        "id": "RuZhR9rTRas9"
      },
      "source": [
        "# Triatomic linear molecule\n",
        "\n",
        "we will look at a model of a linear triatomic molecule with one central mass $M$ attached to two peripheral masses $m$.\n",
        "If the molecule is linear, we can approximate this as three masses attached by two springs of constants $k_{12}$ and $k_{23}$. \n",
        "\n",
        "(Tim Thomay with CP1, 2021, [CC BY-SA 4.0 license](https://creativecommons.org/licenses/by-sa/4.0/))"
      ]
    },
    {
      "cell_type": "code",
      "metadata": {
        "colab": {
          "base_uri": "https://localhost:8080/"
        },
        "id": "FzK7xbrFRvKi",
        "outputId": "3da6535b-bff8-4fc0-aeaa-3a3d9b55172a"
      },
      "source": [
        "%pylab notebook"
      ],
      "execution_count": null,
      "outputs": [
        {
          "output_type": "stream",
          "name": "stdout",
          "text": [
            "Populating the interactive namespace from numpy and matplotlib\n"
          ]
        }
      ]
    },
    {
      "cell_type": "code",
      "metadata": {
        "id": "YtrB5dVZSjMI"
      },
      "source": [
        ""
      ],
      "execution_count": null,
      "outputs": []
    }
  ]
}